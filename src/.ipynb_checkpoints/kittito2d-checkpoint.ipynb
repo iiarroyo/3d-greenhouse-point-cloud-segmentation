{
 "cells": [
  {
   "cell_type": "code",
   "execution_count": 1,
   "metadata": {},
   "outputs": [
    {
     "ename": "ImportError",
     "evalue": "Traceback (most recent call last):\n  File \"/usr/local/lib/python3.5/dist-packages/tensorflow/python/pywrap_tensorflow.py\", line 58, in <module>\n    from tensorflow.python.pywrap_tensorflow_internal import *\n  File \"/usr/local/lib/python3.5/dist-packages/tensorflow/python/pywrap_tensorflow_internal.py\", line 28, in <module>\n    _pywrap_tensorflow_internal = swig_import_helper()\n  File \"/usr/local/lib/python3.5/dist-packages/tensorflow/python/pywrap_tensorflow_internal.py\", line 24, in swig_import_helper\n    _mod = imp.load_module('_pywrap_tensorflow_internal', fp, pathname, description)\n  File \"/usr/lib/python3.5/imp.py\", line 242, in load_module\n    return load_dynamic(name, filename, file)\n  File \"/usr/lib/python3.5/imp.py\", line 342, in load_dynamic\n    return _load(spec)\nImportError: libcublas.so.9.0: cannot open shared object file: No such file or directory\n\n\nFailed to load the native TensorFlow runtime.\n\nSee https://www.tensorflow.org/install/install_sources#common_installation_problems\n\nfor some common reasons and solutions.  Include the entire stack trace\nabove this error message when asking for help.",
     "output_type": "error",
     "traceback": [
      "\u001b[0;31m---------------------------------------------------------------------------\u001b[0m",
      "\u001b[0;31mImportError\u001b[0m                               Traceback (most recent call last)",
      "\u001b[0;32m/usr/local/lib/python3.5/dist-packages/tensorflow/python/pywrap_tensorflow.py\u001b[0m in \u001b[0;36m<module>\u001b[0;34m()\u001b[0m\n\u001b[1;32m     57\u001b[0m \u001b[0;34m\u001b[0m\u001b[0m\n\u001b[0;32m---> 58\u001b[0;31m   \u001b[0;32mfrom\u001b[0m \u001b[0mtensorflow\u001b[0m\u001b[0;34m.\u001b[0m\u001b[0mpython\u001b[0m\u001b[0;34m.\u001b[0m\u001b[0mpywrap_tensorflow_internal\u001b[0m \u001b[0;32mimport\u001b[0m \u001b[0;34m*\u001b[0m\u001b[0;34m\u001b[0m\u001b[0m\n\u001b[0m\u001b[1;32m     59\u001b[0m   \u001b[0;32mfrom\u001b[0m \u001b[0mtensorflow\u001b[0m\u001b[0;34m.\u001b[0m\u001b[0mpython\u001b[0m\u001b[0;34m.\u001b[0m\u001b[0mpywrap_tensorflow_internal\u001b[0m \u001b[0;32mimport\u001b[0m \u001b[0m__version__\u001b[0m\u001b[0;34m\u001b[0m\u001b[0m\n",
      "\u001b[0;32m/usr/local/lib/python3.5/dist-packages/tensorflow/python/pywrap_tensorflow_internal.py\u001b[0m in \u001b[0;36m<module>\u001b[0;34m()\u001b[0m\n\u001b[1;32m     27\u001b[0m             \u001b[0;32mreturn\u001b[0m \u001b[0m_mod\u001b[0m\u001b[0;34m\u001b[0m\u001b[0m\n\u001b[0;32m---> 28\u001b[0;31m     \u001b[0m_pywrap_tensorflow_internal\u001b[0m \u001b[0;34m=\u001b[0m \u001b[0mswig_import_helper\u001b[0m\u001b[0;34m(\u001b[0m\u001b[0;34m)\u001b[0m\u001b[0;34m\u001b[0m\u001b[0m\n\u001b[0m\u001b[1;32m     29\u001b[0m     \u001b[0;32mdel\u001b[0m \u001b[0mswig_import_helper\u001b[0m\u001b[0;34m\u001b[0m\u001b[0m\n",
      "\u001b[0;32m/usr/local/lib/python3.5/dist-packages/tensorflow/python/pywrap_tensorflow_internal.py\u001b[0m in \u001b[0;36mswig_import_helper\u001b[0;34m()\u001b[0m\n\u001b[1;32m     23\u001b[0m             \u001b[0;32mtry\u001b[0m\u001b[0;34m:\u001b[0m\u001b[0;34m\u001b[0m\u001b[0m\n\u001b[0;32m---> 24\u001b[0;31m                 \u001b[0m_mod\u001b[0m \u001b[0;34m=\u001b[0m \u001b[0mimp\u001b[0m\u001b[0;34m.\u001b[0m\u001b[0mload_module\u001b[0m\u001b[0;34m(\u001b[0m\u001b[0;34m'_pywrap_tensorflow_internal'\u001b[0m\u001b[0;34m,\u001b[0m \u001b[0mfp\u001b[0m\u001b[0;34m,\u001b[0m \u001b[0mpathname\u001b[0m\u001b[0;34m,\u001b[0m \u001b[0mdescription\u001b[0m\u001b[0;34m)\u001b[0m\u001b[0;34m\u001b[0m\u001b[0m\n\u001b[0m\u001b[1;32m     25\u001b[0m             \u001b[0;32mfinally\u001b[0m\u001b[0;34m:\u001b[0m\u001b[0;34m\u001b[0m\u001b[0m\n",
      "\u001b[0;32m/usr/lib/python3.5/imp.py\u001b[0m in \u001b[0;36mload_module\u001b[0;34m(name, file, filename, details)\u001b[0m\n\u001b[1;32m    241\u001b[0m         \u001b[0;32melse\u001b[0m\u001b[0;34m:\u001b[0m\u001b[0;34m\u001b[0m\u001b[0m\n\u001b[0;32m--> 242\u001b[0;31m             \u001b[0;32mreturn\u001b[0m \u001b[0mload_dynamic\u001b[0m\u001b[0;34m(\u001b[0m\u001b[0mname\u001b[0m\u001b[0;34m,\u001b[0m \u001b[0mfilename\u001b[0m\u001b[0;34m,\u001b[0m \u001b[0mfile\u001b[0m\u001b[0;34m)\u001b[0m\u001b[0;34m\u001b[0m\u001b[0m\n\u001b[0m\u001b[1;32m    243\u001b[0m     \u001b[0;32melif\u001b[0m \u001b[0mtype_\u001b[0m \u001b[0;34m==\u001b[0m \u001b[0mPKG_DIRECTORY\u001b[0m\u001b[0;34m:\u001b[0m\u001b[0;34m\u001b[0m\u001b[0m\n",
      "\u001b[0;32m/usr/lib/python3.5/imp.py\u001b[0m in \u001b[0;36mload_dynamic\u001b[0;34m(name, path, file)\u001b[0m\n\u001b[1;32m    341\u001b[0m             name=name, loader=loader, origin=path)\n\u001b[0;32m--> 342\u001b[0;31m         \u001b[0;32mreturn\u001b[0m \u001b[0m_load\u001b[0m\u001b[0;34m(\u001b[0m\u001b[0mspec\u001b[0m\u001b[0;34m)\u001b[0m\u001b[0;34m\u001b[0m\u001b[0m\n\u001b[0m\u001b[1;32m    343\u001b[0m \u001b[0;34m\u001b[0m\u001b[0m\n",
      "\u001b[0;31mImportError\u001b[0m: libcublas.so.9.0: cannot open shared object file: No such file or directory",
      "\nDuring handling of the above exception, another exception occurred:\n",
      "\u001b[0;31mImportError\u001b[0m                               Traceback (most recent call last)",
      "\u001b[0;32m<ipython-input-1-a6d9b29d095f>\u001b[0m in \u001b[0;36m<module>\u001b[0;34m()\u001b[0m\n\u001b[1;32m     15\u001b[0m \u001b[0;32mimport\u001b[0m \u001b[0mnumpy\u001b[0m \u001b[0;32mas\u001b[0m \u001b[0mnp\u001b[0m\u001b[0;34m\u001b[0m\u001b[0m\n\u001b[1;32m     16\u001b[0m \u001b[0;32mfrom\u001b[0m \u001b[0msix\u001b[0m\u001b[0;34m.\u001b[0m\u001b[0mmoves\u001b[0m \u001b[0;32mimport\u001b[0m \u001b[0mxrange\u001b[0m\u001b[0;34m\u001b[0m\u001b[0m\n\u001b[0;32m---> 17\u001b[0;31m \u001b[0;32mimport\u001b[0m \u001b[0mtensorflow\u001b[0m \u001b[0;32mas\u001b[0m \u001b[0mtf\u001b[0m\u001b[0;34m\u001b[0m\u001b[0m\n\u001b[0m\u001b[1;32m     18\u001b[0m \u001b[0;32mfrom\u001b[0m \u001b[0mPIL\u001b[0m \u001b[0;32mimport\u001b[0m \u001b[0mImage\u001b[0m\u001b[0;34m\u001b[0m\u001b[0m\n\u001b[1;32m     19\u001b[0m \u001b[0;34m\u001b[0m\u001b[0m\n",
      "\u001b[0;32m/usr/local/lib/python3.5/dist-packages/tensorflow/__init__.py\u001b[0m in \u001b[0;36m<module>\u001b[0;34m()\u001b[0m\n\u001b[1;32m     20\u001b[0m \u001b[0;34m\u001b[0m\u001b[0m\n\u001b[1;32m     21\u001b[0m \u001b[0;31m# pylint: disable=g-bad-import-order\u001b[0m\u001b[0;34m\u001b[0m\u001b[0;34m\u001b[0m\u001b[0m\n\u001b[0;32m---> 22\u001b[0;31m \u001b[0;32mfrom\u001b[0m \u001b[0mtensorflow\u001b[0m\u001b[0;34m.\u001b[0m\u001b[0mpython\u001b[0m \u001b[0;32mimport\u001b[0m \u001b[0mpywrap_tensorflow\u001b[0m  \u001b[0;31m# pylint: disable=unused-import\u001b[0m\u001b[0;34m\u001b[0m\u001b[0m\n\u001b[0m\u001b[1;32m     23\u001b[0m \u001b[0;32mfrom\u001b[0m \u001b[0;34m.\u001b[0m \u001b[0;32mimport\u001b[0m \u001b[0mapp\u001b[0m\u001b[0;34m\u001b[0m\u001b[0m\n\u001b[1;32m     24\u001b[0m \u001b[0;32mfrom\u001b[0m \u001b[0;34m.\u001b[0m \u001b[0;32mimport\u001b[0m \u001b[0mbitwise\u001b[0m\u001b[0;34m\u001b[0m\u001b[0m\n",
      "\u001b[0;32m/usr/local/lib/python3.5/dist-packages/tensorflow/python/__init__.py\u001b[0m in \u001b[0;36m<module>\u001b[0;34m()\u001b[0m\n\u001b[1;32m     47\u001b[0m \u001b[0;32mimport\u001b[0m \u001b[0mnumpy\u001b[0m \u001b[0;32mas\u001b[0m \u001b[0mnp\u001b[0m\u001b[0;34m\u001b[0m\u001b[0m\n\u001b[1;32m     48\u001b[0m \u001b[0;34m\u001b[0m\u001b[0m\n\u001b[0;32m---> 49\u001b[0;31m \u001b[0;32mfrom\u001b[0m \u001b[0mtensorflow\u001b[0m\u001b[0;34m.\u001b[0m\u001b[0mpython\u001b[0m \u001b[0;32mimport\u001b[0m \u001b[0mpywrap_tensorflow\u001b[0m\u001b[0;34m\u001b[0m\u001b[0m\n\u001b[0m\u001b[1;32m     50\u001b[0m \u001b[0;34m\u001b[0m\u001b[0m\n\u001b[1;32m     51\u001b[0m \u001b[0;31m# Protocol buffers\u001b[0m\u001b[0;34m\u001b[0m\u001b[0;34m\u001b[0m\u001b[0m\n",
      "\u001b[0;32m/usr/local/lib/python3.5/dist-packages/tensorflow/python/pywrap_tensorflow.py\u001b[0m in \u001b[0;36m<module>\u001b[0;34m()\u001b[0m\n\u001b[1;32m     72\u001b[0m \u001b[0;32mfor\u001b[0m \u001b[0msome\u001b[0m \u001b[0mcommon\u001b[0m \u001b[0mreasons\u001b[0m \u001b[0;32mand\u001b[0m \u001b[0msolutions\u001b[0m\u001b[0;34m.\u001b[0m  \u001b[0mInclude\u001b[0m \u001b[0mthe\u001b[0m \u001b[0mentire\u001b[0m \u001b[0mstack\u001b[0m \u001b[0mtrace\u001b[0m\u001b[0;34m\u001b[0m\u001b[0m\n\u001b[1;32m     73\u001b[0m above this error message when asking for help.\"\"\" % traceback.format_exc()\n\u001b[0;32m---> 74\u001b[0;31m   \u001b[0;32mraise\u001b[0m \u001b[0mImportError\u001b[0m\u001b[0;34m(\u001b[0m\u001b[0mmsg\u001b[0m\u001b[0;34m)\u001b[0m\u001b[0;34m\u001b[0m\u001b[0m\n\u001b[0m\u001b[1;32m     75\u001b[0m \u001b[0;34m\u001b[0m\u001b[0m\n\u001b[1;32m     76\u001b[0m \u001b[0;31m# pylint: enable=wildcard-import,g-import-not-at-top,unused-import,line-too-long\u001b[0m\u001b[0;34m\u001b[0m\u001b[0;34m\u001b[0m\u001b[0m\n",
      "\u001b[0;31mImportError\u001b[0m: Traceback (most recent call last):\n  File \"/usr/local/lib/python3.5/dist-packages/tensorflow/python/pywrap_tensorflow.py\", line 58, in <module>\n    from tensorflow.python.pywrap_tensorflow_internal import *\n  File \"/usr/local/lib/python3.5/dist-packages/tensorflow/python/pywrap_tensorflow_internal.py\", line 28, in <module>\n    _pywrap_tensorflow_internal = swig_import_helper()\n  File \"/usr/local/lib/python3.5/dist-packages/tensorflow/python/pywrap_tensorflow_internal.py\", line 24, in swig_import_helper\n    _mod = imp.load_module('_pywrap_tensorflow_internal', fp, pathname, description)\n  File \"/usr/lib/python3.5/imp.py\", line 242, in load_module\n    return load_dynamic(name, filename, file)\n  File \"/usr/lib/python3.5/imp.py\", line 342, in load_dynamic\n    return _load(spec)\nImportError: libcublas.so.9.0: cannot open shared object file: No such file or directory\n\n\nFailed to load the native TensorFlow runtime.\n\nSee https://www.tensorflow.org/install/install_sources#common_installation_problems\n\nfor some common reasons and solutions.  Include the entire stack trace\nabove this error message when asking for help."
     ]
    }
   ],
   "source": [
    "import os\n",
    "import math\n",
    "import pdb\n",
    "\n",
    "from __future__ import absolute_import\n",
    "from __future__ import division\n",
    "from __future__ import print_function\n",
    "\n",
    "from datetime import datetime\n",
    "import sys\n",
    "import time\n",
    "import glob\n",
    "import pdb    \n",
    "\n",
    "import numpy as np\n",
    "from six.moves import xrange\n",
    "import tensorflow as tf\n",
    "from PIL import Image\n",
    "\n",
    "from config import *\n",
    "from imdb import kitti\n",
    "from utils.util import *\n",
    "from nets import *\n",
    "\n",
    "import matplotlib.pyplot as plt\n",
    "import matplotlib.image as mpimg"
   ]
  },
  {
   "cell_type": "code",
   "execution_count": 175,
   "metadata": {},
   "outputs": [],
   "source": [
    "Image_res_y = 63\n",
    "Image_res_x = 511\n",
    "\n",
    "v_fov = (-22, 2) #vertical field of view -15to15 for vlp-16\n",
    "v_fov_total = -v_fov[0] + v_fov[1]\n",
    "\n",
    "v_res = 0.42 # in degrees for vlp=64\n",
    "h_res = 0.35 # in degrees for vlp-16 (0.1-0.4)\n",
    "\n",
    "v_res_rad = v_res*(np.pi/180)\n",
    "h_res_rad = h_res*(np.pi/180)\n",
    "\n",
    "x_min = -360.0 / h_res /2\n",
    "x_max = 360.0 / h_res\n",
    "\n",
    "y_min = v_fov[0] / v_res\n",
    "y_max = v_fov_total / v_res\n",
    "\n"
   ]
  },
  {
   "cell_type": "code",
   "execution_count": 176,
   "metadata": {},
   "outputs": [
    {
     "name": "stdout",
     "output_type": "stream",
     "text": [
      "000040\n"
     ]
    },
    {
     "name": "stderr",
     "output_type": "stream",
     "text": [
      "/home/pratibha/dl_semseg/SQSG_ROOT/env/lib/python2.7/site-packages/ipykernel_launcher.py:17: RuntimeWarning: divide by zero encountered in true_divide\n"
     ]
    },
    {
     "name": "stdout",
     "output_type": "stream",
     "text": [
      "> <ipython-input-176-d8eeb47c5f95>(41)<module>()\n",
      "-> for i in range(coord.shape[0]):\n",
      "(Pdb) diff_x\n",
      "514.28571\n",
      "(Pdb) max(coord_x)\n",
      "514.28571\n",
      "(Pdb) c\n",
      "001025\n"
     ]
    },
    {
     "name": "stderr",
     "output_type": "stream",
     "text": [
      "/home/pratibha/dl_semseg/SQSG_ROOT/env/lib/python2.7/site-packages/ipykernel_launcher.py:41: RuntimeWarning: divide by zero encountered in true_divide\n"
     ]
    },
    {
     "name": "stdout",
     "output_type": "stream",
     "text": [
      "> <ipython-input-176-d8eeb47c5f95>(39)<module>()\n",
      "-> pdb.set_trace()\n",
      "(Pdb) c\n",
      "000050\n"
     ]
    },
    {
     "name": "stderr",
     "output_type": "stream",
     "text": [
      "/home/pratibha/dl_semseg/SQSG_ROOT/env/lib/python2.7/site-packages/ipykernel_launcher.py:39: RuntimeWarning: divide by zero encountered in true_divide\n"
     ]
    },
    {
     "name": "stdout",
     "output_type": "stream",
     "text": [
      "> <ipython-input-176-d8eeb47c5f95>(41)<module>()\n",
      "-> for i in range(coord.shape[0]):\n",
      "(Pdb) c\n",
      "000030\n",
      "> <ipython-input-176-d8eeb47c5f95>(39)<module>()\n",
      "-> pdb.set_trace()\n",
      "(Pdb) c\n",
      "000080\n",
      "> <ipython-input-176-d8eeb47c5f95>(41)<module>()\n",
      "-> for i in range(coord.shape[0]):\n",
      "(Pdb) c\n",
      "000010\n",
      "> <ipython-input-176-d8eeb47c5f95>(39)<module>()\n",
      "-> pdb.set_trace()\n",
      "(Pdb) c\n",
      "000100\n",
      "> <ipython-input-176-d8eeb47c5f95>(41)<module>()\n",
      "-> for i in range(coord.shape[0]):\n",
      "(Pdb) c\n"
     ]
    }
   ],
   "source": [
    "max_coord_x = []\n",
    "max_coord_y = []\n",
    "min_coord_x = []\n",
    "min_coord_y = []\n",
    "x_img = []\n",
    "y_img = []\n",
    "for root, dirs, filenames in os.walk(\"/home/inavarro/Downloads/\"):\n",
    "    for f in filenames:\n",
    "        #pdb.set_trace()\n",
    "        \n",
    "        file_n = f.split('.bin')[0]\n",
    "        print(file_n)\n",
    "        coords = np.fromfile(os.path.join('/home/inavarro/Downloads/',f), dtype=np.float32).reshape(-1, 4)\n",
    "        coord = np.vstack(coords[i] for i in range(coords.shape[0]))\n",
    "        #np.save('/home/pratibha/dl_semseg/SQSG_ROOT/src/kitti_3d_bin/1.pcd', coord)\n",
    "        #pdb.set_trace()\n",
    "        coord_x =  (np.arctan(-coord[:,1]/coord[:,0]))/ h_res_rad\n",
    "        coord_y = (np.arctan(coord[:,2]/(np.sqrt(coord[:,0]**2+coord[:,1]**2))))/ v_res_rad\n",
    "        \n",
    "        #coord_x =  (np.arctan2(coord[:,0],coord[:,2]))\n",
    "        #coord_y = (np.arcsin(coord[:,1]/(np.sqrt(coord[:,0]**2+coord[:,1]**2+coord[:,2]**2))))\n",
    "        \n",
    "        \n",
    "        coord_x -= x_min/2\n",
    "        coord_y -= y_min\n",
    "        \n",
    "        max_coord_x.append(max(coord_x))\n",
    "        max_coord_y.append(max(coord_y))\n",
    "        min_coord_x.append(min(coord_x))\n",
    "        min_coord_y.append(min(coord_y))\n",
    "        \n",
    "        diff_x = max(coord_x)-min(coord_x)\n",
    "        diff_y = max(coord_y)-min(coord_y)\n",
    "        \n",
    "        coord_range = np.sqrt(coord[:,0]**2+coord[:,1]**2+coord[:,2]**2)\n",
    "        coord = np.hstack((coord,coord_range[:,np.newaxis]))\n",
    "        \n",
    "        coord_new = np.zeros([Image_res_y+1, Image_res_x+1, 5])\n",
    "        pdb.set_trace()\n",
    "        \n",
    "        for i in range(coord.shape[0]):\n",
    "            y_img.append(int((coord_y[i]/(y_max))*Image_res_y))\n",
    "            x_img.append(int(math.floor((coord_x[i]/(0.5*x_max))*Image_res_x)))\n",
    "            #print(int(math.floor((coord_x[i]/(x_max/Image_res_x)))), int(math.floor((coord_x[i]/(x_max))*Image_res_x)))\n",
    "            #coord_new[int((coord_zenith[i]/del_zenith)*range_azmth), int((coord_azmth[i]/del_azmth)*range_zenith), 0] = coord[i][0]\n",
    "            coord_new[int((coord_y[i]/(diff_y))*Image_res_y), int(math.floor((coord_x[i]/(diff_x))*Image_res_x)), 0] = coord[i][0]\n",
    "\n",
    "            #coord_new[int((coord_zenith[i]/del_zenith)*range_azmth), int((coord_azmth[i]/del_azmth)*range_zenith), 1] = coord[i][1]\n",
    "            coord_new[int((coord_y[i]/(diff_y))*Image_res_y), int(math.floor((coord_x[i]/(diff_x))*Image_res_x)), 1] = coord[i][2]\n",
    "\n",
    "            #coord_new[int((coord_zenith[i]/del_zenith)*range_azmth), int((coord_azmth[i]/del_azmth)*range_zenith), 2] = coord[i][2]\n",
    "            coord_new[int((coord_y[i]/(diff_y))*Image_res_y), int(math.floor((coord_x[i]/(diff_x))*Image_res_x)), 2] = coord[i][1]\n",
    "\n",
    "            #coord_new[int((coord_zenith[i]/del_zenith)*range_azmth), int((coord_azmth[i]/del_azmth)*range_zenith), 3] = coord[i][3]\n",
    "            coord_new[int((coord_y[i]/(diff_y))*Image_res_y), int(math.floor((coord_x[i]/(diff_x))*Image_res_x)), 3] = coord[i][3]\n",
    "\n",
    "            #coord_new[int((coord_zenith[i]/del_zenith)*range_azmth), int((coord_azmth[i]/del_azmth)*range_zenith), 4] = coord[i][4]\n",
    "            coord_new[int((coord_y[i]/(diff_y))*Image_res_y), int(math.floor((coord_x[i]/(diff_x))*Image_res_x)), 4] = coord[i][4]\n",
    "\n",
    "        np.save(os.path.join('/home/pratibha/dl_semseg/SQSG_ROOT/src/kitti_2d_npy', (file_n + \".npy\")), np.flipud(coord_new))\n"
   ]
  },
  {
   "cell_type": "code",
   "execution_count": 145,
   "metadata": {},
   "outputs": [
    {
     "name": "stdout",
     "output_type": "stream",
     "text": [
      "514.286\n",
      "0.0\n",
      "1028.57142857\n",
      "-514.285714286\n",
      "69.8204\n",
      "0.868351\n",
      "71.1904761905\n",
      "-59.2857142857\n"
     ]
    }
   ],
   "source": [
    "print(max(max_coord_x))\n",
    "print(min(min_coord_x))\n",
    "print(x_max)\n",
    "print(x_min)\n",
    "print(max(max_coord_y))\n",
    "\n",
    "print(min(min_coord_y))\n",
    "\n",
    "print(y_max)\n",
    "print(y_min)"
   ]
  },
  {
   "cell_type": "code",
   "execution_count": 152,
   "metadata": {},
   "outputs": [
    {
     "data": {
      "text/plain": [
       "255"
      ]
     },
     "execution_count": 152,
     "metadata": {},
     "output_type": "execute_result"
    }
   ],
   "source": [
    "max(x_img)\n"
   ]
  },
  {
   "cell_type": "code",
   "execution_count": 184,
   "metadata": {},
   "outputs": [
    {
     "data": {
      "image/png": "[encoded data removed]",
      "text/plain": [
       "<Figure size 432x288 with 1 Axes>"
      ]
     },
     "metadata": {},
     "output_type": "display_data"
    }
   ],
   "source": [
    "def _normalize(x):\n",
    "    return (x - x.min())/(x.max() - x.min())\n",
    "\n",
    "lidar = np.load('/home/pratibha/dl_semseg/SQSG_ROOT/src/kitti_2d_npy/001025.npy').astype(np.float32, copy=False)\n",
    "#img = Image.fromarray(lidar[:,:,:3]) # taking all x,y,z\n",
    "depth_img = Image.fromarray((255 * _normalize(lidar[:, :, 3])).astype(np.uint8)) #taking just the z\n",
    "plt.imshow(depth_img)\n",
    "depth_img.save('/home/pratibha/dl_semseg/SQSG_ROOT/src/kitti_2d_npy/dep_img1025range2.png')"
   ]
  }
 ],
 "metadata": {
  "kernelspec": {
   "display_name": "Python 3",
   "language": "python",
   "name": "python3"
  },
  "language_info": {
   "codemirror_mode": {
    "name": "ipython",
    "version": 3
   },
   "file_extension": ".py",
   "mimetype": "text/x-python",
   "name": "python",
   "nbconvert_exporter": "python",
   "pygments_lexer": "ipython3",
   "version": "3.5.2"
  }
 },
 "nbformat": 4,
 "nbformat_minor": 2
}
